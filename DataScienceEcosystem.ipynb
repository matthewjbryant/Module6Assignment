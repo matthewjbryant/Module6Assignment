{
 "cells": [
  {
   "cell_type": "markdown",
   "id": "eb2fd3ab-1724-40ca-8dff-7bfa42445aec",
   "metadata": {},
   "source": [
    "# Data Science Tools and Ecosystem"
   ]
  },
  {
   "cell_type": "markdown",
   "id": "47b9aff0-9c04-4bc2-9e16-659334cccf3e",
   "metadata": {},
   "source": [
    "In this notebook, Data Science Tools and Ecosystem are summarized."
   ]
  },
  {
   "cell_type": "markdown",
   "id": "06364356-83f4-4a3b-a443-48bd9b66be1b",
   "metadata": {},
   "source": [
    "**Objectives:**"
   ]
  },
  {
   "cell_type": "markdown",
   "id": "17e7a628-3e59-44c1-ad35-72f857a0e83b",
   "metadata": {},
   "source": [
    "- List popular languages for Data Science\n",
    "- List commonly used libraries\n",
    "- Give some aritmetic examples using Python"
   ]
  },
  {
   "cell_type": "markdown",
   "id": "44a2ef38-38bf-408c-b8c4-55ab703695c9",
   "metadata": {},
   "source": [
    "Some of the popular languages that Data Scientists use are:\n",
    "1. R\n",
    "2. Python\n",
    "3. Julia"
   ]
  },
  {
   "cell_type": "markdown",
   "id": "f741c6bc-dfe5-4e46-a6eb-6365da84785a",
   "metadata": {},
   "source": [
    "Some of the commonly used libraries used by Data Scientists include:\n",
    "1. Pandas\n",
    "2. TensorFlow\n",
    "3. NumPy"
   ]
  },
  {
   "cell_type": "markdown",
   "id": "fc899d35-1a44-46a5-ad76-fd631fefe6ca",
   "metadata": {},
   "source": [
    "| Data Science Tools |\n",
    "| ------ |\n",
    "| Jupyter Notebooks |\n",
    "| R Studio |\n",
    "| Hadoop |\n"
   ]
  },
  {
   "cell_type": "markdown",
   "id": "125ac4c4-12d6-4545-8cba-cafdf27dc6af",
   "metadata": {},
   "source": [
    "### Below are a few examples of evaluating arithmetic expressions in Python"
   ]
  },
  {
   "cell_type": "code",
   "execution_count": 1,
   "id": "8d455f92-ff9d-4156-ae06-99fdf8751770",
   "metadata": {},
   "outputs": [
    {
     "data": {
      "text/plain": [
       "2"
      ]
     },
     "execution_count": 1,
     "metadata": {},
     "output_type": "execute_result"
    }
   ],
   "source": [
    "1+1"
   ]
  },
  {
   "cell_type": "code",
   "execution_count": 4,
   "id": "a110c44a-c004-4819-9cd4-0748751b3195",
   "metadata": {},
   "outputs": [
    {
     "data": {
      "text/plain": [
       "5"
      ]
     },
     "execution_count": 4,
     "metadata": {},
     "output_type": "execute_result"
    }
   ],
   "source": [
    "2+3"
   ]
  },
  {
   "cell_type": "code",
   "execution_count": 6,
   "id": "95c92e9d-d26b-43d7-9fb8-84b0613638e3",
   "metadata": {},
   "outputs": [
    {
     "data": {
      "text/plain": [
       "100"
      ]
     },
     "execution_count": 6,
     "metadata": {},
     "output_type": "execute_result"
    }
   ],
   "source": [
    "20 + 80"
   ]
  },
  {
   "cell_type": "code",
   "execution_count": 8,
   "id": "28dc84b7-1fb6-4d76-afc0-4017e00347d7",
   "metadata": {},
   "outputs": [
    {
     "data": {
      "text/plain": [
       "17"
      ]
     },
     "execution_count": 8,
     "metadata": {},
     "output_type": "execute_result"
    }
   ],
   "source": [
    "(3*4)+5 # This a simple arithmetic expression to mutiply then add integers"
   ]
  },
  {
   "cell_type": "code",
   "execution_count": 10,
   "id": "b726b4de-52d1-41bd-b63f-538d8e3b4d6f",
   "metadata": {},
   "outputs": [
    {
     "data": {
      "text/plain": [
       "3.3333333333333335"
      ]
     },
     "execution_count": 10,
     "metadata": {},
     "output_type": "execute_result"
    }
   ],
   "source": [
    "200 / 60 # This will convert 200 minutes to hours by diving by 60"
   ]
  },
  {
   "cell_type": "markdown",
   "id": "10649da0-a4d3-4313-bb55-36f7136e98a1",
   "metadata": {},
   "source": [
    "## Author\n",
    "Matthew Bryant"
   ]
  },
  {
   "cell_type": "code",
   "execution_count": null,
   "id": "5752f9bf-7e75-48cd-9187-9f873a2b7299",
   "metadata": {},
   "outputs": [],
   "source": []
  }
 ],
 "metadata": {
  "kernelspec": {
   "display_name": "Python 3 (ipykernel)",
   "language": "python",
   "name": "python3"
  },
  "language_info": {
   "codemirror_mode": {
    "name": "ipython",
    "version": 3
   },
   "file_extension": ".py",
   "mimetype": "text/x-python",
   "name": "python",
   "nbconvert_exporter": "python",
   "pygments_lexer": "ipython3",
   "version": "3.11.7"
  }
 },
 "nbformat": 4,
 "nbformat_minor": 5
}
